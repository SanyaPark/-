{
 "cells": [
  {
   "cell_type": "markdown",
   "id": "d78fa481-927f-4b68-9d35-7da76fb48461",
   "metadata": {},
   "source": [
    "# SQL Tutorial\n",
    "\n",
    "우선 필요한 모듈을 불러옵니다."
   ]
  },
  {
   "cell_type": "code",
   "execution_count": 12,
   "id": "6f4710ac-3f4c-4bec-8544-5e5a1f07c39a",
   "metadata": {},
   "outputs": [
    {
     "name": "stdout",
     "output_type": "stream",
     "text": [
      "Collecting pysqlite3\n",
      "  Downloading pysqlite3-0.5.4.tar.gz (40 kB)\n",
      "  Preparing metadata (setup.py) ... \u001b[?25ldone\n",
      "\u001b[?25hBuilding wheels for collected packages: pysqlite3\n",
      "  Building wheel for pysqlite3 (setup.py) ... \u001b[?25ldone\n",
      "\u001b[?25h  Created wheel for pysqlite3: filename=pysqlite3-0.5.4-cp312-cp312-macosx_11_0_arm64.whl size=37316 sha256=beaeeddef33e7818b094a45cd4a89c37a6a784b8f13938f896e315a3bb6b7754\n",
      "  Stored in directory: /Users/admin/Library/Caches/pip/wheels/5f/02/a6/284262355044b549376150fa1166bbd8106585da0c15280db3\n",
      "Successfully built pysqlite3\n",
      "Installing collected packages: pysqlite3\n",
      "Successfully installed pysqlite3-0.5.4\n"
     ]
    }
   ],
   "source": [
    "!pip install pysqlite3"
   ]
  },
  {
   "cell_type": "code",
   "execution_count": 14,
   "id": "179c5f26-c847-4668-94dc-6a30d452689b",
   "metadata": {},
   "outputs": [],
   "source": [
    "import sqlite3"
   ]
  },
  {
   "cell_type": "markdown",
   "id": "da61e2f2-dcb6-404c-bb01-e11bfbe3f09e",
   "metadata": {},
   "source": [
    "# Making Database\n",
    "sqlt서버와 연결 후 Demo Database를 만듭니다."
   ]
  },
  {
   "cell_type": "code",
   "execution_count": 100,
   "id": "a9f9d185-cbb6-4f9a-a3f3-1b4c1e3f67b0",
   "metadata": {},
   "outputs": [
    {
     "name": "stdout",
     "output_type": "stream",
     "text": [
      "Tables created successfully.\n"
     ]
    }
   ],
   "source": [
    "database = 'my.db'\n",
    "sql_statement = \"\"\"CREATE TABLE IF NOT EXISTS Customers (\n",
    "            CustomerID INTEGER PRIMARY KEY, \n",
    "            CustomerName text NOT NULL,\n",
    "            Contactname text,\n",
    "            Address text NOT NULL,\n",
    "            City text NOT NULL,\n",
    "            PostalCode text NOT NULL,\n",
    "            Country text NOT NULL\n",
    "        );\"\"\"\n",
    "try:\n",
    "    with sqlite3.connect(database) as conn:    #':memory:' instead of \"my.db\" if you want to instantiate the db at memory\n",
    "        cursor = conn.cursor()\n",
    "        cursor.execute(sql_statement)\n",
    "        conn.commit()\n",
    "        print(\"Tables created successfully.\")\n",
    "except sqlite3.operationalError as e:\n",
    "    print(\"Failed to create tables:\", e)"
   ]
  },
  {
   "cell_type": "code",
   "execution_count": 104,
   "id": "167e775c-b2ce-4b14-955c-4872e73e7991",
   "metadata": {},
   "outputs": [],
   "source": [
    "sql = \"\"\"INSERT INTO Customers \n",
    "         (CustomerID, CustomerName, ContactName, Address, City, PostalCode, Country)\n",
    "         VALUES (?, ?, ?, ?, ?, ?, ?)\"\"\"\n",
    "\n",
    "data = [\n",
    "    (1, \"Alfreds Futterkiste\", \"Maria Anders\", \"Obere Str. 57\", \"Berlin\", \"12209\", \"Germany\"),\n",
    "    (2, \"Ana Trujillo Emparedados y helados\", \"Ana Trujillo\", \"Avda. de la Constitución 2222\", \"México D.F.\", \"05021\", \"Mexico\"),\n",
    "    (3, \"Antonio Moreno Taquería\", \"Antonio Moreno\", \"Mataderos 2312\", \"México D.F.\", \"05023\", \"Mexico\"),\n",
    "    (4, \"Around the Horn\", \"Thomas Hardy\", \"120 Hanover Sq.\", \"London\", \"WA1 1DP\", \"UK\"),\n",
    "    (5, \"Berglunds snabbköp\", \"Christina Berglund\", \"Berguvsvägen 8\", \"Luleå\", \"S-958 22\", \"Sweden\")\n",
    "]\n",
    "\n",
    "def main():\n",
    "    try:\n",
    "        with sqlite3.connect(database) as conn:\n",
    "            cursor = conn.cursor()\n",
    "            for qurereData in data:\n",
    "                cursor.execute(sql, qurereData)\n",
    "            conn.commit()\n",
    "\n",
    "    except sqlite3.Error as e:\n",
    "        print(e)\n",
    "\n",
    "if __name__ == '__main__':\n",
    "    main()"
   ]
  },
  {
   "cell_type": "markdown",
   "id": "d3388762-cf22-4791-ba04-927d82df3562",
   "metadata": {},
   "source": [
    "## base Variables and functions"
   ]
  },
  {
   "cell_type": "code",
   "execution_count": 112,
   "id": "5415de91-bedd-49b2-a671-5d761fe1ed99",
   "metadata": {},
   "outputs": [],
   "source": [
    "database = 'my.db'\n",
    "def sendQuery(sql):\n",
    "    try:\n",
    "        with sqlite3.connect(database) as conn:\n",
    "            cursor = conn.cursor()\n",
    "            cursor.execute(sql)\n",
    "            conn.commit()\n",
    "            return cursor.fetchall()\n",
    "        \n",
    "    except sqlite3.Error as e:\n",
    "        print(e)\n",
    "\n",
    "def sendQueryWithData(sql, data):\n",
    "    try:\n",
    "        with sqlite3.connect(database) as conn:\n",
    "            cursor = conn.cursor()\n",
    "            for date in data:\n",
    "                cursor.execute(sql, date)\n",
    "            conn.commit()\n",
    "            return cursor.fetchall()\n",
    "        \n",
    "    except sqlite3.Error as e:\n",
    "        print(e)\n",
    "\n",
    "    "
   ]
  },
  {
   "cell_type": "markdown",
   "id": "7e36eb24-9936-44e3-aba5-19191f0c45cb",
   "metadata": {},
   "source": [
    "## main tutorials"
   ]
  },
  {
   "cell_type": "markdown",
   "id": "124ab66b-c96e-4cd0-988d-e0cb9f9f5b43",
   "metadata": {},
   "source": [
    "### SELECT"
   ]
  },
  {
   "cell_type": "code",
   "execution_count": 114,
   "id": "de7653de-1275-433a-b33c-d837c11d8f0c",
   "metadata": {},
   "outputs": [
    {
     "data": {
      "text/plain": [
       "[(1,\n",
       "  'Alfreds Futterkiste',\n",
       "  'Maria Anders',\n",
       "  'Obere Str. 57',\n",
       "  'Berlin',\n",
       "  '12209',\n",
       "  'Germany'),\n",
       " (2,\n",
       "  'Ana Trujillo Emparedados y helados',\n",
       "  'Ana Trujillo',\n",
       "  'Avda. de la Constitución 2222',\n",
       "  'México D.F.',\n",
       "  '05021',\n",
       "  'Mexico'),\n",
       " (3,\n",
       "  'Antonio Moreno Taquería',\n",
       "  'Antonio Moreno',\n",
       "  'Mataderos 2312',\n",
       "  'México D.F.',\n",
       "  '05023',\n",
       "  'Mexico'),\n",
       " (4,\n",
       "  'Around the Horn',\n",
       "  'Thomas Hardy',\n",
       "  '120 Hanover Sq.',\n",
       "  'London',\n",
       "  'WA1 1DP',\n",
       "  'UK'),\n",
       " (5,\n",
       "  'Berglunds snabbköp',\n",
       "  'Christina Berglund',\n",
       "  'Berguvsvägen 8',\n",
       "  'Luleå',\n",
       "  'S-958 22',\n",
       "  'Sweden')]"
      ]
     },
     "execution_count": 114,
     "metadata": {},
     "output_type": "execute_result"
    }
   ],
   "source": [
    "sql = \"SELECT * FROM Customers;\"\n",
    "sendQuery(sql)"
   ]
  },
  {
   "cell_type": "code",
   "execution_count": 116,
   "id": "b0b04bb2-265a-449d-b6c4-021e5ac33f12",
   "metadata": {},
   "outputs": [
    {
     "data": {
      "text/plain": [
       "[('Alfreds Futterkiste', 'Berlin'),\n",
       " ('Ana Trujillo Emparedados y helados', 'México D.F.'),\n",
       " ('Antonio Moreno Taquería', 'México D.F.'),\n",
       " ('Around the Horn', 'London'),\n",
       " ('Berglunds snabbköp', 'Luleå')]"
      ]
     },
     "execution_count": 116,
     "metadata": {},
     "output_type": "execute_result"
    }
   ],
   "source": [
    "sql = \"SELECT CustomerName, City FROM Customers;\"\n",
    "sendQuery(sql)"
   ]
  },
  {
   "cell_type": "code",
   "execution_count": null,
   "id": "9ef6cbae-0b2d-4f3a-984d-e2d9f374c869",
   "metadata": {},
   "outputs": [],
   "source": []
  }
 ],
 "metadata": {
  "kernelspec": {
   "display_name": "Python [conda env:base] *",
   "language": "python",
   "name": "conda-base-py"
  },
  "language_info": {
   "codemirror_mode": {
    "name": "ipython",
    "version": 3
   },
   "file_extension": ".py",
   "mimetype": "text/x-python",
   "name": "python",
   "nbconvert_exporter": "python",
   "pygments_lexer": "ipython3",
   "version": "3.12.7"
  }
 },
 "nbformat": 4,
 "nbformat_minor": 5
}
